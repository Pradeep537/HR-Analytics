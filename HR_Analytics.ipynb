{
  "nbformat": 4,
  "nbformat_minor": 0,
  "metadata": {
    "colab": {
      "private_outputs": true,
      "provenance": [],
      "include_colab_link": true
    },
    "kernelspec": {
      "name": "python3",
      "display_name": "Python 3"
    },
    "language_info": {
      "name": "python"
    }
  },
  "cells": [
    {
      "cell_type": "markdown",
      "metadata": {
        "id": "view-in-github",
        "colab_type": "text"
      },
      "source": [
        "<a href=\"https://colab.research.google.com/github/Pradeep537/HR-Analytics/blob/main/HR_Analytics.ipynb\" target=\"_parent\"><img src=\"https://colab.research.google.com/assets/colab-badge.svg\" alt=\"Open In Colab\"/></a>"
      ]
    },
    {
      "cell_type": "code",
      "execution_count": null,
      "metadata": {
        "id": "OnGLp8Lgg-K6"
      },
      "outputs": [],
      "source": [
        "import pandas as pd\n",
        "import numpy as np\n",
        "import matplotlib.pyplot as plt\n",
        "import seaborn as sns"
      ]
    },
    {
      "cell_type": "code",
      "source": [
        "train_hr=pd.read_csv('/content/train_LZdllcl.csv')"
      ],
      "metadata": {
        "id": "MX0GCdPIhWiZ"
      },
      "execution_count": null,
      "outputs": []
    },
    {
      "cell_type": "code",
      "source": [
        "print(train_hr)"
      ],
      "metadata": {
        "id": "S8aV676rVjLa"
      },
      "execution_count": null,
      "outputs": []
    },
    {
      "cell_type": "code",
      "source": [
        "test_hr=pd.read_csv('/content/test_2umaH9m.csv')"
      ],
      "metadata": {
        "id": "tCd0K8b5haxc"
      },
      "execution_count": null,
      "outputs": []
    },
    {
      "cell_type": "code",
      "source": [
        "print(test_hr)"
      ],
      "metadata": {
        "id": "N6zUcHDZVvsJ"
      },
      "execution_count": null,
      "outputs": []
    },
    {
      "cell_type": "code",
      "source": [
        "print(train_hr.shape)\n",
        "print(test_hr.shape)"
      ],
      "metadata": {
        "id": "aJzCdQI2h2w2"
      },
      "execution_count": null,
      "outputs": []
    },
    {
      "cell_type": "code",
      "source": [
        "train_hr.head()"
      ],
      "metadata": {
        "id": "pw9KPLsTh9CW"
      },
      "execution_count": null,
      "outputs": []
    },
    {
      "cell_type": "code",
      "source": [
        "test_hr.head()"
      ],
      "metadata": {
        "id": "Xn-8barriHFL"
      },
      "execution_count": null,
      "outputs": []
    },
    {
      "cell_type": "code",
      "source": [
        "train_hr.info()"
      ],
      "metadata": {
        "id": "SVh9IoQriLqX"
      },
      "execution_count": null,
      "outputs": []
    },
    {
      "cell_type": "code",
      "source": [
        "test_hr.info()"
      ],
      "metadata": {
        "id": "9vIgFBQ2iR_6"
      },
      "execution_count": null,
      "outputs": []
    },
    {
      "cell_type": "code",
      "source": [
        "test_hr.describe()"
      ],
      "metadata": {
        "id": "h9HbaGxxiW9E"
      },
      "execution_count": null,
      "outputs": []
    },
    {
      "cell_type": "code",
      "source": [
        "train_hr.describe()"
      ],
      "metadata": {
        "id": "y2uxvWbTibed"
      },
      "execution_count": null,
      "outputs": []
    },
    {
      "cell_type": "code",
      "source": [
        "train_hr.isnull().sum()"
      ],
      "metadata": {
        "id": "BVKy4YGYijon"
      },
      "execution_count": null,
      "outputs": []
    },
    {
      "cell_type": "code",
      "source": [
        "#test_hr.isnull().any()\n",
        "test_hr.isnull().sum()/len(test_hr)"
      ],
      "metadata": {
        "id": "C4zQrkgmirOx"
      },
      "execution_count": null,
      "outputs": []
    },
    {
      "cell_type": "code",
      "source": [
        "test_hr['is_promoted']='test'"
      ],
      "metadata": {
        "id": "bztsw3PviumO"
      },
      "execution_count": null,
      "outputs": []
    },
    {
      "cell_type": "code",
      "source": [
        "combineddf=pd.concat([train_hr,test_hr],axis=0)\n",
        "#axis 0 for row\n",
        "#axis 1 for column"
      ],
      "metadata": {
        "id": "X_pJusOrjM6T"
      },
      "execution_count": null,
      "outputs": []
    },
    {
      "cell_type": "code",
      "source": [
        "combineddf.isnull().sum()"
      ],
      "metadata": {
        "id": "V1FHmBzxjyEe"
      },
      "execution_count": null,
      "outputs": []
    },
    {
      "cell_type": "code",
      "source": [
        "combineddf.education.value_counts(dropna=False)"
      ],
      "metadata": {
        "id": "vNGkVPfWkB2G"
      },
      "execution_count": null,
      "outputs": []
    },
    {
      "cell_type": "code",
      "source": [
        "combineddf.education.fillna(\"Bachelor's\",inplace=True)"
      ],
      "metadata": {
        "id": "LCd-HwzfkPp3"
      },
      "execution_count": null,
      "outputs": []
    },
    {
      "cell_type": "code",
      "source": [
        "combineddf.previous_year_rating.value_counts(dropna=False)"
      ],
      "metadata": {
        "id": "TNksfwLEkn7M"
      },
      "execution_count": null,
      "outputs": []
    },
    {
      "cell_type": "code",
      "source": [
        "combineddf.previous_year_rating.mean()"
      ],
      "metadata": {
        "id": "fTluafRRk_1F"
      },
      "execution_count": null,
      "outputs": []
    },
    {
      "cell_type": "code",
      "source": [
        "combineddf.previous_year_rating.median()"
      ],
      "metadata": {
        "id": "p2aGtdYnlFc8"
      },
      "execution_count": null,
      "outputs": []
    },
    {
      "cell_type": "code",
      "source": [
        "combineddf.previous_year_rating.fillna(3.0,inplace=True)"
      ],
      "metadata": {
        "id": "kSF0hk7FlJef"
      },
      "execution_count": null,
      "outputs": []
    },
    {
      "cell_type": "code",
      "source": [
        "combineddf.isnull().any()"
      ],
      "metadata": {
        "id": "G-WsW8Iele2c"
      },
      "execution_count": null,
      "outputs": []
    },
    {
      "cell_type": "code",
      "source": [
        "combineddf.no_of_trainings=combineddf.no_of_trainings.astype('object')"
      ],
      "metadata": {
        "id": "lqM_SxcPpAJX"
      },
      "execution_count": null,
      "outputs": []
    },
    {
      "cell_type": "code",
      "source": [
        "combineddf.previous_year_rating=combineddf.previous_year_rating.astype('object')"
      ],
      "metadata": {
        "id": "RWO_uC6kpuSh"
      },
      "execution_count": null,
      "outputs": []
    },
    {
      "cell_type": "code",
      "source": [
        "combineddf['KPIs_met >80%']=combineddf['KPIs_met >80%'].astype('object')"
      ],
      "metadata": {
        "id": "KQM359Ukp3QO"
      },
      "execution_count": null,
      "outputs": []
    },
    {
      "cell_type": "code",
      "source": [
        "combineddf['awards_won?']=combineddf['awards_won?'].astype('object')"
      ],
      "metadata": {
        "id": "l5aXp2GHp6bM"
      },
      "execution_count": null,
      "outputs": []
    },
    {
      "cell_type": "code",
      "source": [
        "combineddf=combineddf.drop('employee_id',axis=1)"
      ],
      "metadata": {
        "id": "V9wT4FOsp9Pa"
      },
      "execution_count": null,
      "outputs": []
    },
    {
      "cell_type": "code",
      "source": [
        "numcols=combineddf.select_dtypes(include=np.number)\n",
        "objcols=combineddf.select_dtypes(include=['object'])"
      ],
      "metadata": {
        "id": "rLMaQUGZqMhR"
      },
      "execution_count": null,
      "outputs": []
    },
    {
      "cell_type": "code",
      "source": [
        "numcols.head()"
      ],
      "metadata": {
        "id": "LnwYeCGuqSlU"
      },
      "execution_count": null,
      "outputs": []
    },
    {
      "cell_type": "code",
      "source": [
        "objcols.head()"
      ],
      "metadata": {
        "id": "L5U-PkXpqTKH"
      },
      "execution_count": null,
      "outputs": []
    },
    {
      "cell_type": "code",
      "source": [
        "numcols.columns"
      ],
      "metadata": {
        "id": "BEIOZNGTqZEe"
      },
      "execution_count": null,
      "outputs": []
    },
    {
      "cell_type": "code",
      "source": [
        "objcols.columns"
      ],
      "metadata": {
        "id": "7gaPbBt-qdZ1"
      },
      "execution_count": null,
      "outputs": []
    },
    {
      "cell_type": "code",
      "source": [
        "train_hr.is_promoted.value_counts().plot(kind='pie',autopct='%0.2f%%')"
      ],
      "metadata": {
        "id": "SjfT3R-zqiNg"
      },
      "execution_count": null,
      "outputs": []
    },
    {
      "cell_type": "code",
      "source": [
        "#plotting a scatter plot\n",
        "plt.hist(train_hr.is_promoted)\n",
        "plt.title('plot to show the gap in Promoted and Non-Promoted Employees', fontsize = 30)\n",
        "plt.xlabel('0 -No Promotion and 1- Promotion', fontsize = 20)\n",
        "plt.ylabel('count')\n",
        "plt.tight_layout()\n",
        "plt.show()"
      ],
      "metadata": {
        "id": "nCrRc1EGq6hy"
      },
      "execution_count": null,
      "outputs": []
    },
    {
      "cell_type": "code",
      "source": [
        "train_hr.gender.value_counts()"
      ],
      "metadata": {
        "id": "BBDubA57rPwb"
      },
      "execution_count": null,
      "outputs": []
    },
    {
      "cell_type": "code",
      "source": [
        "train_hr.gender.value_counts().plot(kind='pie',autopct='%0.2f%%')"
      ],
      "metadata": {
        "id": "dE4VGE8brS7K"
      },
      "execution_count": null,
      "outputs": []
    },
    {
      "cell_type": "code",
      "source": [
        "#plotting a scatter plot\n",
        "plt.hist(train_hr.gender)\n",
        "plt.title('plot to show the gap between male and female', fontsize = 30)\n",
        "plt.xlabel('f=FEMALE and m=MALE', fontsize = 20)\n",
        "plt.ylabel('count')\n",
        "plt.tight_layout()\n",
        "plt.show()"
      ],
      "metadata": {
        "id": "d6LgxVLUrVuc"
      },
      "execution_count": null,
      "outputs": []
    },
    {
      "cell_type": "code",
      "source": [
        "train_hr.previous_year_rating.value_counts().plot(kind='pie',autopct='%0.2f%%')"
      ],
      "metadata": {
        "id": "-cjFmIsera40"
      },
      "execution_count": null,
      "outputs": []
    },
    {
      "cell_type": "code",
      "source": [
        "#plotting a scatter plot\n",
        "\n",
        "plt.hist(train_hr.previous_year_rating,color='orange')\n",
        "plt.title('plot to show the previous year rating', fontsize = 20)\n",
        "plt.xlabel('rating', fontsize = 10)\n",
        "plt.ylabel('count')\n",
        "plt.tight_layout()\n",
        "plt.show()"
      ],
      "metadata": {
        "id": "drlEsZHPrghv"
      },
      "execution_count": null,
      "outputs": []
    },
    {
      "cell_type": "code",
      "source": [
        "train_hr['awards_won?'].value_counts().plot(kind='pie',autopct='%0.2f%%')"
      ],
      "metadata": {
        "id": "NJyv_ay4rjPD"
      },
      "execution_count": null,
      "outputs": []
    },
    {
      "cell_type": "code",
      "source": [
        "#plotting a scatter plot\n",
        "plt.hist(train_hr['awards_won?'],color='red')\n",
        "plt.title('plot to show the awards won', fontsize = 20)\n",
        "plt.xlabel('0=Awards Won and 1=NO Awards Won', fontsize = 10)\n",
        "plt.ylabel('count')\n",
        "plt.tight_layout()\n",
        "plt.show()"
      ],
      "metadata": {
        "id": "ES7cZy_lrmVU"
      },
      "execution_count": null,
      "outputs": []
    },
    {
      "cell_type": "code",
      "source": [
        "train_hr['KPIs_met >80%'].value_counts().plot(kind='pie',autopct='%0.2f%%')"
      ],
      "metadata": {
        "id": "2iQmtQ-4rovV"
      },
      "execution_count": null,
      "outputs": []
    },
    {
      "cell_type": "code",
      "source": [
        "#plotting a scatter plot\n",
        "plt.hist(train_hr['KPIs_met >80%'],color='green')\n",
        "plt.title('plot to show the KPIs Met >80%', fontsize = 20)\n",
        "plt.xlabel('0=Not Met KPI > 80% and 1=Met KPI > 80%', fontsize = 10)\n",
        "plt.ylabel('count')\n",
        "plt.tight_layout()\n",
        "plt.show()"
      ],
      "metadata": {
        "id": "0GzQCBWirsUo"
      },
      "execution_count": null,
      "outputs": []
    },
    {
      "cell_type": "code",
      "source": [
        "# checking the distribution of length of service\n",
        "sns.histplot(train_hr['length_of_service'], color = 'green')\n",
        "plt.title('Distribution of length of service among the Employees', fontsize = 20)\n",
        "plt.xlabel('Length of Service in years', fontsize = 15)\n",
        "plt.ylabel('count')\n",
        "plt.show()"
      ],
      "metadata": {
        "id": "GP4pY4x1rusv"
      },
      "execution_count": null,
      "outputs": []
    },
    {
      "cell_type": "code",
      "source": [
        "# checking the distribution of age of Employees in the company\n",
        "sns.histplot(train_hr['age'], color = 'red')\n",
        "plt.title('Distribution of Age of Employees', fontsize = 30)\n",
        "plt.xlabel('Age', fontsize = 15)\n",
        "plt.ylabel('count')\n",
        "plt.show()"
      ],
      "metadata": {
        "id": "Yf6VrZ2yrx4r"
      },
      "execution_count": null,
      "outputs": []
    },
    {
      "cell_type": "code",
      "source": [
        "#plotting a scatter plot\n",
        "plt.hist(train_hr['recruitment_channel'])\n",
        "plt.title('Showing share of different Recruitment Channels', fontsize = 20)\n",
        "plt.xlabel('Others, Sourcing, Refered', fontsize = 10)\n",
        "plt.ylabel('count')\n",
        "plt.tight_layout()\n",
        "plt.show()"
      ],
      "metadata": {
        "id": "RIJLTnvhr-jN"
      },
      "execution_count": null,
      "outputs": []
    },
    {
      "cell_type": "code",
      "source": [
        "train_hr['region'].value_counts().sort_values(ascending=False).plot(kind='bar',color='green')"
      ],
      "metadata": {
        "id": "KHTFYittsBOx"
      },
      "execution_count": null,
      "outputs": []
    },
    {
      "cell_type": "code",
      "source": [],
      "metadata": {
        "id": "UIHRAUtrsEdm"
      },
      "execution_count": null,
      "outputs": []
    },
    {
      "cell_type": "markdown",
      "metadata": {
        "id": "87b3239f"
      },
      "source": [
        "### Scaling the numeric columns"
      ]
    },
    {
      "cell_type": "code",
      "execution_count": null,
      "metadata": {
        "id": "c43becfd"
      },
      "outputs": [],
      "source": [
        "#standard scaler\n",
        "from sklearn.preprocessing import StandardScaler"
      ]
    },
    {
      "cell_type": "code",
      "execution_count": null,
      "metadata": {
        "id": "c20f87ba"
      },
      "outputs": [],
      "source": [
        "scaler=StandardScaler()"
      ]
    },
    {
      "cell_type": "code",
      "execution_count": null,
      "metadata": {
        "id": "fc3a7bb4"
      },
      "outputs": [],
      "source": [
        "numcols_scaled=scaler.fit_transform(numcols)"
      ]
    },
    {
      "cell_type": "code",
      "execution_count": null,
      "metadata": {
        "id": "413bf0e0"
      },
      "outputs": [],
      "source": [
        "numcols_scaled=pd.DataFrame(numcols_scaled,columns=numcols.columns)"
      ]
    },
    {
      "cell_type": "code",
      "execution_count": null,
      "metadata": {
        "id": "027bf394"
      },
      "outputs": [],
      "source": [
        "numcols_scaled.head()"
      ]
    },
    {
      "cell_type": "code",
      "source": [],
      "metadata": {
        "id": "IkHkPmBlsd43"
      },
      "execution_count": null,
      "outputs": []
    },
    {
      "cell_type": "code",
      "execution_count": null,
      "metadata": {
        "id": "39ffd1ff"
      },
      "outputs": [],
      "source": [
        "from sklearn.preprocessing import MinMaxScaler"
      ]
    },
    {
      "cell_type": "code",
      "execution_count": null,
      "metadata": {
        "id": "81b3f879"
      },
      "outputs": [],
      "source": [
        "minmax=MinMaxScaler()"
      ]
    },
    {
      "cell_type": "code",
      "execution_count": null,
      "metadata": {
        "id": "c0e018ff"
      },
      "outputs": [],
      "source": [
        "numcols_minmax=minmax.fit_transform(numcols)"
      ]
    },
    {
      "cell_type": "code",
      "execution_count": null,
      "metadata": {
        "id": "d685371c"
      },
      "outputs": [],
      "source": [
        "numcols_minmax=pd.DataFrame(numcols_minmax,columns=numcols.columns)"
      ]
    },
    {
      "cell_type": "code",
      "execution_count": null,
      "metadata": {
        "id": "7ed913cc"
      },
      "outputs": [],
      "source": [
        "numcols_minmax.head()"
      ]
    },
    {
      "cell_type": "code",
      "execution_count": null,
      "metadata": {
        "id": "e345f285"
      },
      "outputs": [],
      "source": [
        "from sklearn.preprocessing import RobustScaler"
      ]
    },
    {
      "cell_type": "code",
      "execution_count": null,
      "metadata": {
        "id": "00622de6"
      },
      "outputs": [],
      "source": [
        "robust=RobustScaler()"
      ]
    },
    {
      "cell_type": "code",
      "execution_count": null,
      "metadata": {
        "id": "3d40339e"
      },
      "outputs": [],
      "source": [
        "numcols_robust=robust.fit_transform(numcols)"
      ]
    },
    {
      "cell_type": "code",
      "execution_count": null,
      "metadata": {
        "id": "6f3da09d"
      },
      "outputs": [],
      "source": [
        "numcols_robust=pd.DataFrame(numcols_robust,columns=numcols.columns)"
      ]
    },
    {
      "cell_type": "code",
      "execution_count": null,
      "metadata": {
        "id": "a687a483"
      },
      "outputs": [],
      "source": [
        "numcols_robust.head()"
      ]
    },
    {
      "cell_type": "markdown",
      "source": [
        "Dummy encoding"
      ],
      "metadata": {
        "id": "RKKCyKXZtHCp"
      }
    },
    {
      "cell_type": "code",
      "source": [
        "objcols.columns"
      ],
      "metadata": {
        "id": "JJuBRyIPtEjv"
      },
      "execution_count": null,
      "outputs": []
    },
    {
      "cell_type": "code",
      "source": [
        "objcols_dummy=pd.get_dummies(objcols,columns=['department', 'region', 'education', 'gender', 'recruitment_channel',\n",
        "       'no_of_trainings', 'previous_year_rating', 'KPIs_met >80%', 'awards_won?'])"
      ],
      "metadata": {
        "id": "Ukppn7K3tFJJ"
      },
      "execution_count": null,
      "outputs": []
    },
    {
      "cell_type": "code",
      "source": [
        "objcols_dummy.head()"
      ],
      "metadata": {
        "id": "7CvYSfqKtPwX"
      },
      "execution_count": null,
      "outputs": []
    },
    {
      "cell_type": "code",
      "source": [
        "combinedf_clean=pd.concat([numcols_minmax.reset_index(),objcols_dummy.reset_index()],axis=1)"
      ],
      "metadata": {
        "id": "PtZegDiAtd4A"
      },
      "execution_count": null,
      "outputs": []
    },
    {
      "cell_type": "code",
      "source": [
        "combinedf_clean.head()"
      ],
      "metadata": {
        "id": "kwGAoICAuBun"
      },
      "execution_count": null,
      "outputs": []
    },
    {
      "cell_type": "code",
      "source": [
        "combinedf_clean.drop(['index'],axis=1,inplace=True)"
      ],
      "metadata": {
        "id": "uuj5SeHSuJjw"
      },
      "execution_count": null,
      "outputs": []
    },
    {
      "cell_type": "code",
      "source": [
        "#split data back to train and test\n",
        "train_hr_df=combinedf_clean[combinedf_clean.is_promoted!='test']\n",
        "test_hr_df=combinedf_clean[combinedf_clean.is_promoted=='test']"
      ],
      "metadata": {
        "id": "8ef6X2pMuNTJ"
      },
      "execution_count": null,
      "outputs": []
    },
    {
      "cell_type": "code",
      "source": [
        "#split data back to train and test for EDA Hypothesis testing as this dataset doesn't have scaled numerical variables\n",
        "#and dummies in categorical columns.\n",
        "train_hr_EDA=combineddf[combineddf.is_promoted!='test']\n",
        "test_hr_EDA=combineddf[combineddf.is_promoted=='test']"
      ],
      "metadata": {
        "id": "oi2FM7RMul0N"
      },
      "execution_count": null,
      "outputs": []
    },
    {
      "cell_type": "code",
      "execution_count": null,
      "metadata": {
        "id": "bd7b28ff"
      },
      "outputs": [],
      "source": [
        "pd.crosstab(train_hr_EDA.is_promoted,train_hr_EDA.recruitment_channel)"
      ]
    },
    {
      "cell_type": "markdown",
      "metadata": {
        "id": "acf998dc"
      },
      "source": [
        "**There is a significant number of promotions came from the \"sourcing\" channel.**"
      ]
    },
    {
      "cell_type": "code",
      "execution_count": null,
      "metadata": {
        "id": "1fd2a10a"
      },
      "outputs": [],
      "source": [
        "pd.crosstab(train_hr_EDA.is_promoted,train_hr_EDA['KPIs_met >80%'])"
      ]
    },
    {
      "cell_type": "markdown",
      "metadata": {
        "id": "ded54ff3"
      },
      "source": [
        "**Again Having a good KPI score increases the chances of getting promoted in the company.**"
      ]
    },
    {
      "cell_type": "code",
      "execution_count": null,
      "metadata": {
        "id": "8d5011af"
      },
      "outputs": [],
      "source": [
        "pd.crosstab(train_hr_EDA.is_promoted,train_hr_EDA['awards_won?'])"
      ]
    },
    {
      "cell_type": "markdown",
      "metadata": {
        "id": "a43781d3"
      },
      "source": [
        "**There is a very good chance of getting promoted if the employee has won an award**"
      ]
    },
    {
      "cell_type": "code",
      "execution_count": null,
      "metadata": {
        "id": "349d3273"
      },
      "outputs": [],
      "source": [
        "pd.crosstab(train_hr_EDA.age, train_hr_EDA['is_promoted'])"
      ]
    },
    {
      "cell_type": "markdown",
      "metadata": {
        "id": "d3032136"
      },
      "source": [
        "**This is Very Impressive that the company promotes employees of all the ages equally even the freshers have equal share of promotion and also the senior citizen employees are getting the equal share of Promotion in the Company**"
      ]
    },
    {
      "cell_type": "code",
      "execution_count": null,
      "metadata": {
        "id": "33f2585d"
      },
      "outputs": [],
      "source": [
        "pd.crosstab(train_hr_EDA.department,train_hr_EDA['is_promoted'])"
      ]
    },
    {
      "cell_type": "markdown",
      "metadata": {
        "id": "8584c561"
      },
      "source": [
        "**Again, Each of the departments have equal no. of promotions showing an equal development in each of the departments of the company.**"
      ]
    },
    {
      "cell_type": "code",
      "execution_count": null,
      "metadata": {
        "id": "a9be4269"
      },
      "outputs": [],
      "source": [
        "pd.crosstab(train_hr_EDA.gender,train_hr_EDA['is_promoted'])"
      ]
    },
    {
      "cell_type": "markdown",
      "metadata": {
        "id": "67129bb2"
      },
      "source": [
        "**The above plot shows that there is no partiality between males and females in terms of promotion**"
      ]
    },
    {
      "cell_type": "code",
      "source": [
        "#GROUPBY"
      ],
      "metadata": {
        "id": "Wwdc2PT7wj83"
      },
      "execution_count": null,
      "outputs": []
    },
    {
      "cell_type": "code",
      "execution_count": null,
      "metadata": {
        "scrolled": true,
        "id": "58acb415"
      },
      "outputs": [],
      "source": [
        "train_hr_EDA.avg_training_score.groupby(train_hr_EDA.is_promoted).mean()"
      ]
    },
    {
      "cell_type": "code",
      "execution_count": null,
      "metadata": {
        "id": "4ec15456"
      },
      "outputs": [],
      "source": [
        "train_hr_EDA.length_of_service.groupby(train_hr_EDA.is_promoted).mean()"
      ]
    },
    {
      "cell_type": "code",
      "execution_count": null,
      "metadata": {
        "id": "a87245d5"
      },
      "outputs": [],
      "source": [
        "train_hr_EDA.age.groupby(train_hr_EDA.is_promoted).mean()"
      ]
    },
    {
      "cell_type": "code",
      "source": [
        "#performing hypothesis testing using T-Test\n",
        "one=train_hr_EDA[train_hr_EDA.is_promoted==1]\n",
        "zero=train_hr_EDA[train_hr_EDA.is_promoted==0]"
      ],
      "metadata": {
        "id": "pn3c2S2hyJHX"
      },
      "execution_count": null,
      "outputs": []
    },
    {
      "cell_type": "code",
      "execution_count": null,
      "metadata": {
        "id": "5c655694"
      },
      "outputs": [],
      "source": [
        "#Null hypothesis - There is no significant difference between the two given variables. (p-values greater than 0.05)\n",
        "\n",
        "#Alternative Hypothesis - There is significant difference between the two given variables.(p-values less than 0.05)"
      ]
    },
    {
      "cell_type": "code",
      "execution_count": null,
      "metadata": {
        "id": "0f1591fc"
      },
      "outputs": [],
      "source": [
        "from scipy.stats import ttest_ind\n",
        "ttest_ind(one.avg_training_score,zero.avg_training_score,equal_var=False)\n",
        "#since pvalue=7.662329172468838e-291 is lessthan 0.05,reject null"
      ]
    },
    {
      "cell_type": "code",
      "execution_count": null,
      "metadata": {
        "id": "b9dc2340"
      },
      "outputs": [],
      "source": [
        "ttest_ind(one.length_of_service,zero.length_of_service,equal_var=False)\n",
        "#since pvalue=0.008262946987836755 is lessthan 0.05,reject null"
      ]
    },
    {
      "cell_type": "code",
      "execution_count": null,
      "metadata": {
        "id": "ff0664fe"
      },
      "outputs": [],
      "source": [
        "train_hr_EDA.avg_training_score.groupby(train_hr_EDA.previous_year_rating).mean()"
      ]
    },
    {
      "cell_type": "code",
      "execution_count": null,
      "metadata": {
        "id": "958c3167"
      },
      "outputs": [],
      "source": [
        "ones=train_hr_EDA[train_hr_EDA.previous_year_rating==1.0]\n",
        "two=train_hr_EDA[train_hr_EDA.previous_year_rating==2.0]\n",
        "three=train_hr_EDA[train_hr_EDA.previous_year_rating==3.0]\n",
        "four=train_hr_EDA[train_hr_EDA.previous_year_rating==4.0]\n",
        "five=train_hr_EDA[train_hr_EDA.previous_year_rating==5.0]"
      ]
    },
    {
      "cell_type": "code",
      "execution_count": null,
      "metadata": {
        "id": "5340d5a1"
      },
      "outputs": [],
      "source": [
        "from scipy.stats import f_oneway\n",
        "f_oneway(ones.avg_training_score,two.avg_training_score,three.avg_training_score,four.avg_training_score,five.avg_training_score)\n",
        "#since pvalue=6.957044805766572e-114) is lessthan 0.05,reject null"
      ]
    },
    {
      "cell_type": "code",
      "execution_count": null,
      "metadata": {
        "id": "13f6ad7a"
      },
      "outputs": [],
      "source": [
        "f_oneway(ones.length_of_service,two.length_of_service,three.length_of_service,four.length_of_service,five.length_of_service)\n",
        "#since pvalue=2.89045896511553e-124 is lessthan 0.05,reject null"
      ]
    },
    {
      "cell_type": "code",
      "execution_count": null,
      "metadata": {
        "id": "d16ccbee"
      },
      "outputs": [],
      "source": [
        "from scipy.stats import chi2_contingency\n",
        "chi2_contingency(pd.crosstab(train_hr.is_promoted,train_hr.gender))\n",
        "#since pvalue=0.009765091521176657 is lessthan 0.05,reject null"
      ]
    },
    {
      "cell_type": "code",
      "execution_count": null,
      "metadata": {
        "id": "054230b6"
      },
      "outputs": [],
      "source": [
        "chi2_contingency(pd.crosstab(train_hr['KPIs_met >80%'],train_hr.is_promoted))\n",
        "#since pvalue=0.0 is lessthan 0.05,reject null"
      ]
    },
    {
      "cell_type": "code",
      "execution_count": null,
      "metadata": {
        "id": "52e40547"
      },
      "outputs": [],
      "source": [
        "chi2_contingency(pd.crosstab(train_hr.is_promoted,train_hr['awards_won?']))\n",
        "#since pvalue=0.0 is lessthan 0.05,reject null"
      ]
    },
    {
      "cell_type": "code",
      "execution_count": null,
      "metadata": {
        "id": "ff719487"
      },
      "outputs": [],
      "source": [
        "print(train_hr_EDA.shape)\n",
        "print(test_hr_EDA.shape)"
      ]
    },
    {
      "cell_type": "code",
      "source": [
        "y=train_hr_df.is_promoted\n",
        "X=train_hr_df.drop('is_promoted',axis=1)\n",
        "test_hr_df=test_hr_df.drop('is_promoted',axis=1)"
      ],
      "metadata": {
        "id": "kk6-5Lg5ywnf"
      },
      "execution_count": null,
      "outputs": []
    },
    {
      "cell_type": "code",
      "source": [
        "X.head()"
      ],
      "metadata": {
        "id": "7HtAYUpDy2qJ"
      },
      "execution_count": null,
      "outputs": []
    },
    {
      "cell_type": "code",
      "source": [
        "# we using the labelencoder for dependent variable(y), to change dependent variable to 0's and 1's\n",
        "from sklearn.preprocessing import LabelEncoder"
      ],
      "metadata": {
        "id": "1AzNjGkMy7YU"
      },
      "execution_count": null,
      "outputs": []
    },
    {
      "cell_type": "code",
      "source": [
        "y=LabelEncoder().fit_transform(y)"
      ],
      "metadata": {
        "id": "ZZLISjjxzBo2"
      },
      "execution_count": null,
      "outputs": []
    },
    {
      "cell_type": "code",
      "source": [
        "train_hr_df.is_promoted.value_counts().plot(kind='bar')"
      ],
      "metadata": {
        "id": "Pe-p5XlqzECk"
      },
      "execution_count": null,
      "outputs": []
    },
    {
      "cell_type": "code",
      "source": [
        " # importing the smote as the data is been oversampled\n",
        "from imblearn.over_sampling import SMOTE\n",
        "oversample = SMOTE()\n",
        "X,y = oversample.fit_resample(X, y)"
      ],
      "metadata": {
        "id": "NcO286bszHJR"
      },
      "execution_count": null,
      "outputs": []
    },
    {
      "cell_type": "markdown",
      "metadata": {
        "id": "55c00ec4"
      },
      "source": [
        "# Logistic Regression"
      ]
    },
    {
      "cell_type": "code",
      "execution_count": null,
      "metadata": {
        "id": "cfa8565a"
      },
      "outputs": [],
      "source": [
        "from sklearn.linear_model import LogisticRegression"
      ]
    },
    {
      "cell_type": "code",
      "execution_count": null,
      "metadata": {
        "id": "748d7fe1"
      },
      "outputs": [],
      "source": [
        "logit=LogisticRegression(max_iter=5000)"
      ]
    },
    {
      "cell_type": "code",
      "execution_count": null,
      "metadata": {
        "id": "efb5c476"
      },
      "outputs": [],
      "source": [
        "logitmodel=logit.fit(X,y)"
      ]
    },
    {
      "cell_type": "code",
      "execution_count": null,
      "metadata": {
        "id": "08228824"
      },
      "outputs": [],
      "source": [
        "logitmodel.score(X,y)"
      ]
    },
    {
      "cell_type": "code",
      "execution_count": null,
      "metadata": {
        "id": "be929f97"
      },
      "outputs": [],
      "source": [
        "logitpredict=logitmodel.predict(X)"
      ]
    },
    {
      "cell_type": "code",
      "execution_count": null,
      "metadata": {
        "id": "00a8442b"
      },
      "outputs": [],
      "source": [
        "pd.crosstab(y,logitpredict)"
      ]
    },
    {
      "cell_type": "code",
      "execution_count": null,
      "metadata": {
        "id": "1ea75908"
      },
      "outputs": [],
      "source": [
        "from sklearn.metrics import classification_report,RocCurveDisplay\n",
        "from sklearn.model_selection import cross_val_score"
      ]
    },
    {
      "cell_type": "code",
      "execution_count": null,
      "metadata": {
        "id": "1717b796"
      },
      "outputs": [],
      "source": [
        "print(classification_report(y,logitpredict))"
      ]
    },
    {
      "cell_type": "code",
      "execution_count": null,
      "metadata": {
        "id": "6963211e"
      },
      "outputs": [],
      "source": [
        "RocCurveDisplay.from_predictions(y,logitpredict)"
      ]
    },
    {
      "cell_type": "code",
      "execution_count": null,
      "metadata": {
        "scrolled": false,
        "id": "a7ab9109"
      },
      "outputs": [],
      "source": [
        "cross_val_score(logit,X,y)"
      ]
    },
    {
      "cell_type": "code",
      "execution_count": null,
      "metadata": {
        "id": "6d274069"
      },
      "outputs": [],
      "source": [
        "np.mean([0.79916235, 0.9184284 , 0.91653371, 0.91912645, 0.91822896])"
      ]
    },
    {
      "cell_type": "code",
      "execution_count": null,
      "metadata": {
        "id": "51a05b08"
      },
      "outputs": [],
      "source": [
        "logittest=logitmodel.predict(test_hr_df)"
      ]
    },
    {
      "cell_type": "code",
      "execution_count": null,
      "metadata": {
        "id": "470694f0"
      },
      "outputs": [],
      "source": [
        "pd.DataFrame(logittest).to_csv(\"Logit1.csv\")"
      ]
    },
    {
      "cell_type": "markdown",
      "metadata": {
        "id": "c2cb98bb"
      },
      "source": [
        "# Decission Tree"
      ]
    },
    {
      "cell_type": "code",
      "execution_count": null,
      "metadata": {
        "id": "45b2f14f"
      },
      "outputs": [],
      "source": [
        "from sklearn.tree import DecisionTreeClassifier"
      ]
    },
    {
      "cell_type": "code",
      "execution_count": null,
      "metadata": {
        "id": "162a2216"
      },
      "outputs": [],
      "source": [
        "tree=DecisionTreeClassifier(max_depth=10)"
      ]
    },
    {
      "cell_type": "code",
      "execution_count": null,
      "metadata": {
        "id": "9c2ab142"
      },
      "outputs": [],
      "source": [
        "treemodel=tree.fit(X,y)"
      ]
    },
    {
      "cell_type": "code",
      "execution_count": null,
      "metadata": {
        "id": "882a5c56"
      },
      "outputs": [],
      "source": [
        "treemodel.score(X,y)"
      ]
    },
    {
      "cell_type": "code",
      "execution_count": null,
      "metadata": {
        "id": "4b1984e1"
      },
      "outputs": [],
      "source": [
        "treepredict=treemodel.predict(X)"
      ]
    },
    {
      "cell_type": "code",
      "execution_count": null,
      "metadata": {
        "id": "a3f4eef2"
      },
      "outputs": [],
      "source": [
        "pd.crosstab(y,treepredict)"
      ]
    },
    {
      "cell_type": "code",
      "execution_count": null,
      "metadata": {
        "id": "d939f834"
      },
      "outputs": [],
      "source": [
        "print(classification_report(y,treepredict))"
      ]
    },
    {
      "cell_type": "code",
      "execution_count": null,
      "metadata": {
        "id": "811e885e"
      },
      "outputs": [],
      "source": [
        "RocCurveDisplay.from_predictions(y,treepredict)"
      ]
    },
    {
      "cell_type": "code",
      "execution_count": null,
      "metadata": {
        "id": "1a4fdb81"
      },
      "outputs": [],
      "source": [
        "cross_val_score(tree,X,y)"
      ]
    },
    {
      "cell_type": "code",
      "execution_count": null,
      "metadata": {
        "id": "ded809ad"
      },
      "outputs": [],
      "source": [
        "np.mean([0.81626446, 0.87435181, 0.87320503, 0.87659553, 0.87430195])"
      ]
    },
    {
      "cell_type": "code",
      "execution_count": null,
      "metadata": {
        "id": "341c8fa8"
      },
      "outputs": [],
      "source": [
        "treetest=treemodel.predict(test_hr_df)"
      ]
    },
    {
      "cell_type": "code",
      "execution_count": null,
      "metadata": {
        "id": "a1b98c42"
      },
      "outputs": [],
      "source": [
        "pd.DataFrame(treetest).to_csv('tree1.csv')"
      ]
    },
    {
      "cell_type": "markdown",
      "metadata": {
        "id": "08922073"
      },
      "source": [
        "# Random Forest"
      ]
    },
    {
      "cell_type": "code",
      "execution_count": null,
      "metadata": {
        "id": "77757d36"
      },
      "outputs": [],
      "source": [
        "from sklearn.ensemble import RandomForestClassifier"
      ]
    },
    {
      "cell_type": "code",
      "execution_count": null,
      "metadata": {
        "id": "46e20fd1"
      },
      "outputs": [],
      "source": [
        "RF=RandomForestClassifier(max_depth=5,n_estimators=500)"
      ]
    },
    {
      "cell_type": "code",
      "execution_count": null,
      "metadata": {
        "id": "1bdb0f0e"
      },
      "outputs": [],
      "source": [
        "RFmodel=RF.fit(X,y)"
      ]
    },
    {
      "cell_type": "code",
      "execution_count": null,
      "metadata": {
        "id": "ae4c2d95"
      },
      "outputs": [],
      "source": [
        "RFmodel.score(X,y)"
      ]
    },
    {
      "cell_type": "code",
      "execution_count": null,
      "metadata": {
        "id": "a845341b"
      },
      "outputs": [],
      "source": [
        "Ranpredict=RFmodel.predict(X)"
      ]
    },
    {
      "cell_type": "code",
      "execution_count": null,
      "metadata": {
        "id": "c1f4297d"
      },
      "outputs": [],
      "source": [
        "pd.crosstab(y,Ranpredict)"
      ]
    },
    {
      "cell_type": "code",
      "execution_count": null,
      "metadata": {
        "id": "231cf20a"
      },
      "outputs": [],
      "source": [
        "print(classification_report(y,Ranpredict))"
      ]
    },
    {
      "cell_type": "code",
      "execution_count": null,
      "metadata": {
        "id": "4c88fdf9"
      },
      "outputs": [],
      "source": [
        "RocCurveDisplay.from_predictions(y,Ranpredict)"
      ]
    },
    {
      "cell_type": "code",
      "execution_count": null,
      "metadata": {
        "id": "4617bfaa"
      },
      "outputs": [],
      "source": [
        "cross_val_score(RF,X,y)"
      ]
    },
    {
      "cell_type": "code",
      "execution_count": null,
      "metadata": {
        "id": "78b8d23b"
      },
      "outputs": [],
      "source": [
        "np.mean([0.75787794, 0.76316314, 0.75882529, 0.76745114, 0.7725369 ])"
      ]
    },
    {
      "cell_type": "code",
      "execution_count": null,
      "metadata": {
        "id": "63d08b4e"
      },
      "outputs": [],
      "source": [
        "RFpredict=RFmodel.predict(test_hr_df)"
      ]
    },
    {
      "cell_type": "code",
      "execution_count": null,
      "metadata": {
        "id": "4eba1b5c"
      },
      "outputs": [],
      "source": [
        "pd.DataFrame(RFpredict).to_csv('RF1.csv')"
      ]
    },
    {
      "cell_type": "markdown",
      "metadata": {
        "id": "7a4a24b2"
      },
      "source": [
        "# Gradient Boosting Machine"
      ]
    },
    {
      "cell_type": "code",
      "execution_count": null,
      "metadata": {
        "id": "bfabc84c"
      },
      "outputs": [],
      "source": [
        "from sklearn.ensemble import GradientBoostingClassifier"
      ]
    },
    {
      "cell_type": "code",
      "execution_count": null,
      "metadata": {
        "id": "d6d1beda"
      },
      "outputs": [],
      "source": [
        "gbc=GradientBoostingClassifier(max_depth=4,n_estimators=300)"
      ]
    },
    {
      "cell_type": "code",
      "execution_count": null,
      "metadata": {
        "id": "9b7b0d09"
      },
      "outputs": [],
      "source": [
        "gbcmodel=gbc.fit(X,y)"
      ]
    },
    {
      "cell_type": "code",
      "execution_count": null,
      "metadata": {
        "id": "13adb4fb"
      },
      "outputs": [],
      "source": [
        "gbcmodel.score(X,y)"
      ]
    },
    {
      "cell_type": "code",
      "execution_count": null,
      "metadata": {
        "id": "a53fa9e6"
      },
      "outputs": [],
      "source": [
        "gbcpredict=gbcmodel.predict(X)"
      ]
    },
    {
      "cell_type": "code",
      "execution_count": null,
      "metadata": {
        "id": "023f69da"
      },
      "outputs": [],
      "source": [
        "pd.crosstab(y,gbcpredict)"
      ]
    },
    {
      "cell_type": "code",
      "execution_count": null,
      "metadata": {
        "id": "8da448f1"
      },
      "outputs": [],
      "source": [
        "print(classification_report(y,gbcpredict))"
      ]
    },
    {
      "cell_type": "code",
      "execution_count": null,
      "metadata": {
        "id": "e96c07d1"
      },
      "outputs": [],
      "source": [
        "RocCurveDisplay.from_predictions(y,gbcpredict)"
      ]
    },
    {
      "cell_type": "code",
      "execution_count": null,
      "metadata": {
        "id": "c6e34f9c"
      },
      "outputs": [],
      "source": [
        "cross_val_score(gbc,X,y)"
      ]
    },
    {
      "cell_type": "code",
      "execution_count": null,
      "metadata": {
        "id": "428cd85c"
      },
      "outputs": [],
      "source": [
        "np.mean([0.83306741, 0.97197846, 0.97287595, 0.97352413, 0.97028321])"
      ]
    },
    {
      "cell_type": "code",
      "execution_count": null,
      "metadata": {
        "id": "c8ea4e14"
      },
      "outputs": [],
      "source": [
        "gbcpredict=gbcmodel.predict(test_hr_df)"
      ]
    },
    {
      "cell_type": "code",
      "execution_count": null,
      "metadata": {
        "id": "3fd3aeae"
      },
      "outputs": [],
      "source": [
        "pd.DataFrame(gbcpredict).to_csv('gbc1.csv')"
      ]
    },
    {
      "cell_type": "markdown",
      "metadata": {
        "id": "743b4fab"
      },
      "source": [
        "# Naive Bayes"
      ]
    },
    {
      "cell_type": "code",
      "execution_count": null,
      "metadata": {
        "id": "ca4c0c48"
      },
      "outputs": [],
      "source": [
        "from sklearn.naive_bayes import MultinomialNB"
      ]
    },
    {
      "cell_type": "code",
      "execution_count": null,
      "metadata": {
        "id": "3d0d356e"
      },
      "outputs": [],
      "source": [
        "mul=MultinomialNB()"
      ]
    },
    {
      "cell_type": "code",
      "execution_count": null,
      "metadata": {
        "id": "e70c0fa2"
      },
      "outputs": [],
      "source": [
        "mulmodel=mul.fit(X,y)"
      ]
    },
    {
      "cell_type": "code",
      "execution_count": null,
      "metadata": {
        "id": "8b691f07"
      },
      "outputs": [],
      "source": [
        "mulmodel.score(X,y)"
      ]
    },
    {
      "cell_type": "code",
      "execution_count": null,
      "metadata": {
        "id": "062c4a3b"
      },
      "outputs": [],
      "source": [
        "mulpredict=mulmodel.predict(X)"
      ]
    },
    {
      "cell_type": "code",
      "execution_count": null,
      "metadata": {
        "id": "9432dc0d"
      },
      "outputs": [],
      "source": [
        "pd.crosstab(y,mulpredict)"
      ]
    },
    {
      "cell_type": "code",
      "execution_count": null,
      "metadata": {
        "id": "d0f3b437"
      },
      "outputs": [],
      "source": [
        "print(classification_report(y,mulpredict))"
      ]
    },
    {
      "cell_type": "code",
      "execution_count": null,
      "metadata": {
        "id": "92f8024d"
      },
      "outputs": [],
      "source": [
        "RocCurveDisplay.from_predictions(y,mulpredict)"
      ]
    },
    {
      "cell_type": "code",
      "execution_count": null,
      "metadata": {
        "id": "99c20442"
      },
      "outputs": [],
      "source": [
        "cross_val_score(mul,X,y)"
      ]
    },
    {
      "cell_type": "code",
      "execution_count": null,
      "metadata": {
        "id": "60fb663e"
      },
      "outputs": [],
      "source": [
        "np.mean([0.73923016, 0.76680295, 0.76226566, 0.77283606, 0.7725369 ])"
      ]
    },
    {
      "cell_type": "code",
      "execution_count": null,
      "metadata": {
        "id": "26489a34"
      },
      "outputs": [],
      "source": [
        "mulpredict=mulmodel.predict(test_hr_df)"
      ]
    },
    {
      "cell_type": "code",
      "execution_count": null,
      "metadata": {
        "id": "ca846d06"
      },
      "outputs": [],
      "source": [
        "pd.DataFrame(mulpredict).to_csv('mul1.csv')"
      ]
    },
    {
      "cell_type": "markdown",
      "metadata": {
        "id": "0f9e8237"
      },
      "source": [
        "## Gaussian"
      ]
    },
    {
      "cell_type": "code",
      "execution_count": null,
      "metadata": {
        "id": "be806bc6"
      },
      "outputs": [],
      "source": [
        "from sklearn.naive_bayes import GaussianNB"
      ]
    },
    {
      "cell_type": "code",
      "execution_count": null,
      "metadata": {
        "id": "6c8fc3fd"
      },
      "outputs": [],
      "source": [
        "nbg=GaussianNB()"
      ]
    },
    {
      "cell_type": "code",
      "execution_count": null,
      "metadata": {
        "id": "dcfd8461"
      },
      "outputs": [],
      "source": [
        "nbgmodel=nbg.fit(X,y)"
      ]
    },
    {
      "cell_type": "code",
      "execution_count": null,
      "metadata": {
        "id": "16e83190"
      },
      "outputs": [],
      "source": [
        "nbgmodel.score(X,y)"
      ]
    },
    {
      "cell_type": "code",
      "execution_count": null,
      "metadata": {
        "id": "61bb4fb9"
      },
      "outputs": [],
      "source": [
        "nbgpredict=nbgmodel.predict(X)"
      ]
    },
    {
      "cell_type": "code",
      "execution_count": null,
      "metadata": {
        "id": "6a8b17b6"
      },
      "outputs": [],
      "source": [
        "pd.crosstab(y,nbgpredict)"
      ]
    },
    {
      "cell_type": "code",
      "execution_count": null,
      "metadata": {
        "id": "e974c4e2"
      },
      "outputs": [],
      "source": [
        "print(classification_report(y,nbgpredict))"
      ]
    },
    {
      "cell_type": "code",
      "execution_count": null,
      "metadata": {
        "id": "e1a53b87"
      },
      "outputs": [],
      "source": [
        "RocCurveDisplay.from_predictions(y,nbgpredict)"
      ]
    },
    {
      "cell_type": "code",
      "execution_count": null,
      "metadata": {
        "id": "d23dc13e"
      },
      "outputs": [],
      "source": [
        "cross_val_score(nbg,X,y)"
      ]
    },
    {
      "cell_type": "code",
      "execution_count": null,
      "metadata": {
        "id": "4e13c8ae"
      },
      "outputs": [],
      "source": [
        "np.mean([0.61677304, 0.66015158, 0.66324292, 0.66005185, 0.65755884])"
      ]
    },
    {
      "cell_type": "code",
      "execution_count": null,
      "metadata": {
        "id": "31c0a737"
      },
      "outputs": [],
      "source": [
        "nbgpredict=nbgmodel.predict(test_hr_df)"
      ]
    },
    {
      "cell_type": "code",
      "execution_count": null,
      "metadata": {
        "id": "605fbe96"
      },
      "outputs": [],
      "source": [
        "pd.DataFrame(nbgpredict).to_csv('ngb1.csv')"
      ]
    },
    {
      "cell_type": "markdown",
      "metadata": {
        "id": "c3f1c9b8"
      },
      "source": [
        "# Bernoulli's"
      ]
    },
    {
      "cell_type": "code",
      "execution_count": null,
      "metadata": {
        "id": "10dc71c3"
      },
      "outputs": [],
      "source": [
        "from sklearn.naive_bayes import BernoulliNB"
      ]
    },
    {
      "cell_type": "code",
      "execution_count": null,
      "metadata": {
        "id": "e266d5f8"
      },
      "outputs": [],
      "source": [
        "bb=BernoulliNB()"
      ]
    },
    {
      "cell_type": "code",
      "execution_count": null,
      "metadata": {
        "id": "7d8d93c4"
      },
      "outputs": [],
      "source": [
        "bbmodel=bb.fit(X,y)"
      ]
    },
    {
      "cell_type": "code",
      "execution_count": null,
      "metadata": {
        "id": "92422d51"
      },
      "outputs": [],
      "source": [
        "bbmodel.score(X,y)"
      ]
    },
    {
      "cell_type": "code",
      "execution_count": null,
      "metadata": {
        "id": "46200f97"
      },
      "outputs": [],
      "source": [
        "bbpredict=bbmodel.predict(X)"
      ]
    },
    {
      "cell_type": "code",
      "execution_count": null,
      "metadata": {
        "id": "338faba5"
      },
      "outputs": [],
      "source": [
        "pd.crosstab(y,bbpredict)"
      ]
    },
    {
      "cell_type": "code",
      "execution_count": null,
      "metadata": {
        "id": "623af44b"
      },
      "outputs": [],
      "source": [
        "print(classification_report(y,bbpredict))"
      ]
    },
    {
      "cell_type": "code",
      "execution_count": null,
      "metadata": {
        "id": "7cfc9b16"
      },
      "outputs": [],
      "source": [
        "RocCurveDisplay.from_predictions(y,bbpredict)"
      ]
    },
    {
      "cell_type": "code",
      "execution_count": null,
      "metadata": {
        "id": "590fd24e"
      },
      "outputs": [],
      "source": [
        "cross_val_score(bb,X,y)"
      ]
    },
    {
      "cell_type": "code",
      "execution_count": null,
      "metadata": {
        "id": "d2eb1ee5"
      },
      "outputs": [],
      "source": [
        "np.mean([0.72895892, 0.74311927, 0.7423215 , 0.74855405, 0.75219386])"
      ]
    },
    {
      "cell_type": "code",
      "execution_count": null,
      "metadata": {
        "id": "bf3a7d04"
      },
      "outputs": [],
      "source": [
        "bbpredict=bbmodel.predict(test_hr_df)"
      ]
    },
    {
      "cell_type": "code",
      "execution_count": null,
      "metadata": {
        "id": "145dc434"
      },
      "outputs": [],
      "source": [
        "pd.DataFrame(bbpredict).to_csv('bb1.csv')"
      ]
    },
    {
      "cell_type": "markdown",
      "metadata": {
        "id": "65029499"
      },
      "source": [
        "# SVC"
      ]
    },
    {
      "cell_type": "code",
      "execution_count": null,
      "metadata": {
        "id": "bc6c6a4b"
      },
      "outputs": [],
      "source": [
        "from sklearn.svm import SVC"
      ]
    },
    {
      "cell_type": "code",
      "execution_count": null,
      "metadata": {
        "id": "e8eeb520"
      },
      "outputs": [],
      "source": [
        "svc=SVC(C=3)"
      ]
    },
    {
      "cell_type": "code",
      "execution_count": null,
      "metadata": {
        "id": "838106ab"
      },
      "outputs": [],
      "source": [
        "svcmodel=svc.fit(X,y)"
      ]
    },
    {
      "cell_type": "code",
      "execution_count": null,
      "metadata": {
        "id": "e5727ed0"
      },
      "outputs": [],
      "source": [
        "svcmodel.score(X,y)"
      ]
    },
    {
      "cell_type": "code",
      "execution_count": null,
      "metadata": {
        "id": "f3205901"
      },
      "outputs": [],
      "source": [
        "svcpredict=svcmodel.predict(X)"
      ]
    },
    {
      "cell_type": "code",
      "execution_count": null,
      "metadata": {
        "id": "8648c3de"
      },
      "outputs": [],
      "source": [
        "pd.crosstab(y,svcpredict)"
      ]
    },
    {
      "cell_type": "code",
      "execution_count": null,
      "metadata": {
        "id": "2de9e2c1"
      },
      "outputs": [],
      "source": [
        "print(classification_report(y,svcpredict))"
      ]
    },
    {
      "cell_type": "code",
      "execution_count": null,
      "metadata": {
        "id": "01c07351"
      },
      "outputs": [],
      "source": [
        "RocCurveDisplay.from_predictions(y,svcpredict)"
      ]
    },
    {
      "cell_type": "code",
      "execution_count": null,
      "metadata": {
        "id": "6ba14005"
      },
      "outputs": [],
      "source": [
        "cross_val_score(svc,X,y)"
      ]
    },
    {
      "cell_type": "code",
      "execution_count": null,
      "metadata": {
        "id": "56613fc2"
      },
      "outputs": [],
      "source": [
        "np.mean([0.82568807, 0.94884324, 0.95008975, 0.95492621, 0.95038891])"
      ]
    },
    {
      "cell_type": "code",
      "execution_count": null,
      "metadata": {
        "id": "45f629e6"
      },
      "outputs": [],
      "source": [
        "svcpredict=svcmodel.predict(test_hr_df)"
      ]
    },
    {
      "cell_type": "code",
      "execution_count": null,
      "metadata": {
        "id": "147e7ef6"
      },
      "outputs": [],
      "source": [
        "pd.DataFrame(svcpredict).to_csv('svc1.csv')"
      ]
    },
    {
      "cell_type": "markdown",
      "source": [
        "# Validating the Score in analytics vidya"
      ],
      "metadata": {
        "id": "sC9TJ3YKM6dF"
      }
    }
  ]
}